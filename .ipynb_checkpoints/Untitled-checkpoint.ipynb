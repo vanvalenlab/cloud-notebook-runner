{
 "cells": [
  {
   "cell_type": "code",
   "execution_count": 1,
   "metadata": {},
   "outputs": [],
   "source": [
    "import os\n",
    "import time\n",
    "import random\n",
    "import googleapiclient.discovery"
   ]
  },
  {
   "cell_type": "code",
   "execution_count": 2,
   "metadata": {},
   "outputs": [],
   "source": [
    "compute = googleapiclient.discovery.build('compute', 'v1')"
   ]
  },
  {
   "cell_type": "code",
   "execution_count": 3,
   "metadata": {},
   "outputs": [],
   "source": [
    "project=\"deep-learning-174123\""
   ]
  },
  {
   "cell_type": "code",
   "execution_count": 4,
   "metadata": {},
   "outputs": [],
   "source": [
    "accelerators = compute.regions().list(project=project).execute()"
   ]
  },
  {
   "cell_type": "code",
   "execution_count": 7,
   "metadata": {
    "scrolled": false
   },
   "outputs": [
    {
     "name": "stdout",
     "output_type": "stream",
     "text": [
      "[{'metric': 'CPUS', 'limit': 72, 'usage': 0}, {'metric': 'DISKS_TOTAL_GB', 'limit': 40960, 'usage': 0}, {'metric': 'STATIC_ADDRESSES', 'limit': 21, 'usage': 0}, {'metric': 'IN_USE_ADDRESSES', 'limit': 69, 'usage': 0}, {'metric': 'SSD_TOTAL_GB', 'limit': 20480, 'usage': 0}, {'metric': 'LOCAL_SSD_TOTAL_GB', 'limit': 20000, 'usage': 0}, {'metric': 'INSTANCE_GROUPS', 'limit': 300, 'usage': 0}, {'metric': 'INSTANCE_GROUP_MANAGERS', 'limit': 150, 'usage': 0}, {'metric': 'INSTANCES', 'limit': 720, 'usage': 0}, {'metric': 'AUTOSCALERS', 'limit': 150, 'usage': 0}, {'metric': 'REGIONAL_AUTOSCALERS', 'limit': 100, 'usage': 0}, {'metric': 'REGIONAL_INSTANCE_GROUP_MANAGERS', 'limit': 100, 'usage': 0}, {'metric': 'PREEMPTIBLE_CPUS', 'limit': 0, 'usage': 0}, {'metric': 'NVIDIA_K80_GPUS', 'limit': 8, 'usage': 0}, {'metric': 'COMMITTED_CPUS', 'limit': 0, 'usage': 0}, {'metric': 'COMMITTED_LOCAL_SSD_TOTAL_GB', 'limit': 0, 'usage': 0}, {'metric': 'COMMITMENTS', 'limit': 0, 'usage': 0}, {'metric': 'NETWORK_ENDPOINT_GROUPS', 'limit': 300, 'usage': 0}, {'metric': 'INTERNAL_ADDRESSES', 'limit': 200, 'usage': 0}, {'metric': 'NVIDIA_P100_GPUS', 'limit': 1, 'usage': 0}, {'metric': 'PREEMPTIBLE_LOCAL_SSD_GB', 'limit': 0, 'usage': 0}, {'metric': 'PREEMPTIBLE_NVIDIA_K80_GPUS', 'limit': 1, 'usage': 0}, {'metric': 'PREEMPTIBLE_NVIDIA_P100_GPUS', 'limit': 1, 'usage': 0}, {'metric': 'NVIDIA_P100_VWS_GPUS', 'limit': 1, 'usage': 0}, {'metric': 'NVIDIA_V100_GPUS', 'limit': 1, 'usage': 0}, {'metric': 'NVIDIA_P4_GPUS', 'limit': 1, 'usage': 0}, {'metric': 'NVIDIA_P4_VWS_GPUS', 'limit': 1, 'usage': 0}, {'metric': 'NODE_GROUPS', 'limit': 100, 'usage': 0}, {'metric': 'NODE_TEMPLATES', 'limit': 100, 'usage': 0}, {'metric': 'PREEMPTIBLE_NVIDIA_V100_GPUS', 'limit': 1, 'usage': 0}, {'metric': 'PREEMPTIBLE_NVIDIA_P4_GPUS', 'limit': 1, 'usage': 0}, {'metric': 'PREEMPTIBLE_NVIDIA_P100_VWS_GPUS', 'limit': 1, 'usage': 0}, {'metric': 'PREEMPTIBLE_NVIDIA_P4_VWS_GPUS', 'limit': 1, 'usage': 0}, {'metric': 'INTERCONNECT_ATTACHMENTS_PER_REGION', 'limit': 16, 'usage': 0}, {'metric': 'INTERCONNECT_ATTACHMENTS_TOTAL_MBPS', 'limit': 80000, 'usage': 0}, {'metric': 'RESOURCE_POLICIES', 'limit': 10, 'usage': 0}, {'metric': 'IN_USE_SNAPSHOT_SCHEDULES', 'limit': 50, 'usage': 0}, {'metric': 'NVIDIA_T4_GPUS', 'limit': 4, 'usage': 0}, {'metric': 'NVIDIA_T4_VWS_GPUS', 'limit': 2, 'usage': 0}, {'metric': 'PREEMPTIBLE_NVIDIA_T4_GPUS', 'limit': 4, 'usage': 0}, {'metric': 'PREEMPTIBLE_NVIDIA_T4_VWS_GPUS', 'limit': 2, 'usage': 0}, {'metric': 'IN_USE_BACKUP_SCHEDULES', 'limit': 20, 'usage': 0}, {'metric': 'PUBLIC_DELEGATED_PREFIXES', 'limit': 10, 'usage': 0}, {'metric': 'COMMITTED_NVIDIA_K80_GPUS', 'limit': 0, 'usage': 0}, {'metric': 'COMMITTED_NVIDIA_P100_GPUS', 'limit': 0, 'usage': 0}, {'metric': 'COMMITTED_NVIDIA_P4_GPUS', 'limit': 0, 'usage': 0}, {'metric': 'COMMITTED_NVIDIA_V100_GPUS', 'limit': 0, 'usage': 0}, {'metric': 'COMMITTED_NVIDIA_T4_GPUS', 'limit': 0, 'usage': 0}, {'metric': 'C2_CPUS', 'limit': 24, 'usage': 0}, {'metric': 'N2_CPUS', 'limit': 24, 'usage': 0}, {'metric': 'COMMITTED_N2_CPUS', 'limit': 0, 'usage': 0}, {'metric': 'COMMITTED_C2_CPUS', 'limit': 0, 'usage': 0}, {'metric': 'RESERVATIONS', 'limit': 100, 'usage': 0}, {'metric': 'N2D_CPUS', 'limit': 0, 'usage': 0}, {'metric': 'COMMITTED_N2D_CPUS', 'limit': 0, 'usage': 0}, {'metric': 'STATIC_BYOIP_ADDRESSES', 'limit': 128, 'usage': 0}, {'metric': 'AFFINITY_GROUPS', 'limit': 0, 'usage': 0}]\n"
     ]
    }
   ],
   "source": [
    "print(accelerators['items'][0]['quotas'])"
   ]
  },
  {
   "cell_type": "code",
   "execution_count": 11,
   "metadata": {},
   "outputs": [],
   "source": [
    "accelerators = compute.regions().get(project=project, region=\"us-west1\").execute()"
   ]
  },
  {
   "cell_type": "code",
   "execution_count": 31,
   "metadata": {},
   "outputs": [
    {
     "name": "stdout",
     "output_type": "stream",
     "text": [
      "{'metric': 'PREEMPTIBLE_NVIDIA_K80_GPUS', 'limit': 1, 'usage': 0}\n",
      "{'metric': 'NVIDIA_K80_GPUS', 'limit': 16, 'usage': 0}\n",
      "{'metric': 'NVIDIA_P100_GPUS', 'limit': 8, 'usage': 0}\n",
      "{'metric': 'PREEMPTIBLE_NVIDIA_K80_GPUS', 'limit': 1, 'usage': 0}\n",
      "{'metric': 'PREEMPTIBLE_NVIDIA_P100_GPUS', 'limit': 1, 'usage': 0}\n",
      "{'metric': 'NVIDIA_P100_VWS_GPUS', 'limit': 1, 'usage': 0}\n",
      "{'metric': 'NVIDIA_V100_GPUS', 'limit': 1, 'usage': 0}\n",
      "{'metric': 'NVIDIA_P4_GPUS', 'limit': 1, 'usage': 0}\n",
      "{'metric': 'NVIDIA_P4_VWS_GPUS', 'limit': 1, 'usage': 0}\n",
      "{'metric': 'PREEMPTIBLE_NVIDIA_V100_GPUS', 'limit': 1, 'usage': 0}\n",
      "{'metric': 'PREEMPTIBLE_NVIDIA_P4_GPUS', 'limit': 1, 'usage': 0}\n",
      "{'metric': 'PREEMPTIBLE_NVIDIA_P100_VWS_GPUS', 'limit': 1, 'usage': 0}\n",
      "{'metric': 'PREEMPTIBLE_NVIDIA_P4_VWS_GPUS', 'limit': 1, 'usage': 0}\n",
      "{'metric': 'NVIDIA_T4_GPUS', 'limit': 4, 'usage': 0}\n",
      "{'metric': 'NVIDIA_T4_VWS_GPUS', 'limit': 2, 'usage': 0}\n",
      "{'metric': 'PREEMPTIBLE_NVIDIA_T4_GPUS', 'limit': 4, 'usage': 0}\n",
      "{'metric': 'PREEMPTIBLE_NVIDIA_T4_VWS_GPUS', 'limit': 2, 'usage': 0}\n",
      "{'metric': 'COMMITTED_NVIDIA_K80_GPUS', 'limit': 0, 'usage': 0}\n",
      "{'metric': 'COMMITTED_NVIDIA_P100_GPUS', 'limit': 0, 'usage': 0}\n",
      "{'metric': 'COMMITTED_NVIDIA_P4_GPUS', 'limit': 0, 'usage': 0}\n",
      "{'metric': 'COMMITTED_NVIDIA_V100_GPUS', 'limit': 0, 'usage': 0}\n",
      "{'metric': 'COMMITTED_NVIDIA_T4_GPUS', 'limit': 0, 'usage': 0}\n",
      "<generator object <genexpr> at 0x7f09f68ffaf0>\n"
     ]
    }
   ],
   "source": [
    "print(accelerators['quotas'][21])\n",
    "for a in accelerators['quotas']:\n",
    "    if 'NVIDIA' in a['metric']:\n",
    "        print(a)\n",
    "print(a['metric'] for a in accelerators['quotas'])"
   ]
  },
  {
   "cell_type": "code",
   "execution_count": null,
   "metadata": {},
   "outputs": [],
   "source": []
  }
 ],
 "metadata": {
  "kernelspec": {
   "display_name": "Python 3",
   "language": "python",
   "name": "python3"
  },
  "language_info": {
   "codemirror_mode": {
    "name": "ipython",
    "version": 3
   },
   "file_extension": ".py",
   "mimetype": "text/x-python",
   "name": "python",
   "nbconvert_exporter": "python",
   "pygments_lexer": "ipython3",
   "version": "3.6.9"
  }
 },
 "nbformat": 4,
 "nbformat_minor": 4
}
